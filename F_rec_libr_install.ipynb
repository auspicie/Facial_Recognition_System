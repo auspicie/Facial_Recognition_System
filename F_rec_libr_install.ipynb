{
 "cells": [
  {
   "cell_type": "code",
   "execution_count": 1,
   "id": "754f3058-b995-4dd3-8ddc-cce1a8b5f85a",
   "metadata": {},
   "outputs": [],
   "source": [
    "#1 Install Opencv"
   ]
  },
  {
   "cell_type": "code",
   "execution_count": 2,
   "id": "1832f474-2ee3-434b-8324-b6b98db1760a",
   "metadata": {},
   "outputs": [
    {
     "name": "stdout",
     "output_type": "stream",
     "text": [
      "Requirement already satisfied: opencv-python in c:\\users\\owner\\anaconda3\\lib\\site-packages (4.11.0.86)\n",
      "Requirement already satisfied: numpy>=1.21.2 in c:\\users\\owner\\anaconda3\\lib\\site-packages (from opencv-python) (1.26.4)\n",
      "Note: you may need to restart the kernel to use updated packages.\n"
     ]
    }
   ],
   "source": [
    "pip install opencv-python"
   ]
  },
  {
   "cell_type": "code",
   "execution_count": 3,
   "id": "88cb0818-0f7f-49c1-ab59-812edc5ae0f4",
   "metadata": {},
   "outputs": [],
   "source": [
    "#2 Install numpy"
   ]
  },
  {
   "cell_type": "code",
   "execution_count": 4,
   "id": "cf5fd63f-ecc9-4f5a-9877-51164c8bd638",
   "metadata": {},
   "outputs": [
    {
     "name": "stdout",
     "output_type": "stream",
     "text": [
      "Requirement already satisfied: numpy in c:\\users\\owner\\anaconda3\\lib\\site-packages (1.26.4)\n",
      "Note: you may need to restart the kernel to use updated packages.\n"
     ]
    }
   ],
   "source": [
    "pip install numpy"
   ]
  },
  {
   "cell_type": "code",
   "execution_count": 5,
   "id": "e3953c3a-3b6c-43b2-9f79-24ff9b0490c6",
   "metadata": {},
   "outputs": [],
   "source": [
    "#3 Install pandas"
   ]
  },
  {
   "cell_type": "code",
   "execution_count": 6,
   "id": "7912f019-2d7e-45d3-a133-debbd9e96104",
   "metadata": {},
   "outputs": [
    {
     "name": "stdout",
     "output_type": "stream",
     "text": [
      "Requirement already satisfied: pandas in c:\\users\\owner\\anaconda3\\lib\\site-packages (2.2.2)\n",
      "Requirement already satisfied: numpy>=1.26.0 in c:\\users\\owner\\anaconda3\\lib\\site-packages (from pandas) (1.26.4)\n",
      "Requirement already satisfied: python-dateutil>=2.8.2 in c:\\users\\owner\\anaconda3\\lib\\site-packages (from pandas) (2.9.0.post0)\n",
      "Requirement already satisfied: pytz>=2020.1 in c:\\users\\owner\\anaconda3\\lib\\site-packages (from pandas) (2024.1)\n",
      "Requirement already satisfied: tzdata>=2022.7 in c:\\users\\owner\\anaconda3\\lib\\site-packages (from pandas) (2023.3)\n",
      "Requirement already satisfied: six>=1.5 in c:\\users\\owner\\anaconda3\\lib\\site-packages (from python-dateutil>=2.8.2->pandas) (1.16.0)\n",
      "Note: you may need to restart the kernel to use updated packages.\n"
     ]
    }
   ],
   "source": [
    "pip install pandas"
   ]
  },
  {
   "cell_type": "code",
   "execution_count": 7,
   "id": "e9350e00-5133-462c-95a3-3fa807de11f0",
   "metadata": {},
   "outputs": [],
   "source": [
    "#4a cmake dlib"
   ]
  },
  {
   "cell_type": "code",
   "execution_count": 8,
   "id": "16c59c19-61ad-45dd-8c34-1be69bd80a46",
   "metadata": {},
   "outputs": [],
   "source": [
    "#4b Install face_recognition"
   ]
  },
  {
   "cell_type": "code",
   "execution_count": 9,
   "id": "a8df5403-f07c-4f46-aa4c-da9b4e231878",
   "metadata": {},
   "outputs": [
    {
     "name": "stdout",
     "output_type": "stream",
     "text": [
      "Requirement already satisfied: cmake in c:\\users\\owner\\anaconda3\\lib\\site-packages (4.0.0)\n",
      "Requirement already satisfied: dlib in c:\\users\\owner\\anaconda3\\lib\\site-packages (19.24.6)\n",
      "Note: you may need to restart the kernel to use updated packages.\n"
     ]
    }
   ],
   "source": [
    "pip install cmake dlib"
   ]
  },
  {
   "cell_type": "code",
   "execution_count": 10,
   "id": "f7670673-d5cc-4039-9bb3-f312e215bc8a",
   "metadata": {},
   "outputs": [
    {
     "name": "stdout",
     "output_type": "stream",
     "text": [
      "Requirement already satisfied: face-recognition in c:\\users\\owner\\anaconda3\\lib\\site-packages (1.3.0)\n",
      "Requirement already satisfied: face-recognition-models>=0.3.0 in c:\\users\\owner\\anaconda3\\lib\\site-packages (from face-recognition) (0.3.0)\n",
      "Requirement already satisfied: Click>=6.0 in c:\\users\\owner\\anaconda3\\lib\\site-packages (from face-recognition) (8.1.7)\n",
      "Requirement already satisfied: dlib>=19.7 in c:\\users\\owner\\anaconda3\\lib\\site-packages (from face-recognition) (19.24.6)\n",
      "Requirement already satisfied: numpy in c:\\users\\owner\\anaconda3\\lib\\site-packages (from face-recognition) (1.26.4)\n",
      "Requirement already satisfied: Pillow in c:\\users\\owner\\anaconda3\\lib\\site-packages (from face-recognition) (10.4.0)\n",
      "Requirement already satisfied: colorama in c:\\users\\owner\\anaconda3\\lib\\site-packages (from Click>=6.0->face-recognition) (0.4.6)\n",
      "Note: you may need to restart the kernel to use updated packages.\n"
     ]
    }
   ],
   "source": [
    "pip install face-recognition"
   ]
  }
 ],
 "metadata": {
  "kernelspec": {
   "display_name": "Python 3 (ipykernel)",
   "language": "python",
   "name": "python3"
  },
  "language_info": {
   "codemirror_mode": {
    "name": "ipython",
    "version": 3
   },
   "file_extension": ".py",
   "mimetype": "text/x-python",
   "name": "python",
   "nbconvert_exporter": "python",
   "pygments_lexer": "ipython3",
   "version": "3.12.9"
  }
 },
 "nbformat": 4,
 "nbformat_minor": 5
}
