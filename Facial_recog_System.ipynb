{
 "cells": [
  {
   "cell_type": "code",
   "execution_count": 1,
   "id": "a0cd9f88-0215-4ac7-b017-c930a72f97fd",
   "metadata": {},
   "outputs": [],
   "source": [
    "# importing the necessary libraries\n",
    "import cv2\n",
    "import face_recognition\n",
    "import pandas as pd\n",
    "import os\n",
    "from PIL import Image\n",
    "import time"
   ]
  },
  {
   "cell_type": "code",
   "execution_count": 2,
   "id": "db7e59ad-d83d-44d5-88ae-856791ab50cb",
   "metadata": {},
   "outputs": [],
   "source": [
    "# Function to load the image folder and the excel file\n",
    "def load_data_from_folder(folder, metadata_file):\n",
    "    images = []\n",
    "    labels = []\n",
    "    metadata = []\n",
    "\n",
    "    metadata_df = pd.read_excel(metadata_file)\n",
    "    metadata_dict = metadata_df.set_index(\"Unique ID\").T.to_dict(\"list\")\n",
    "    for filename in os.listdir(folder):\n",
    "        if filename.endswith(\".jpg\") or filename.endswith(\".png\"):\n",
    "            img = face_recognition.load_image_file(os.path.join(folder,filename))\n",
    "            encodings = face_recognition.face_encodings(img)\n",
    "            if len(encodings) > 0:\n",
    "                encoding = encodings[0]\n",
    "                images.append(encoding)\n",
    "                labels.append(filename.split(\".\")[0])\n",
    "                identifier = filename.split(\".\")[0]\n",
    "                if identifier in metadata_dict:\n",
    "                    metadata.append(metadata_dict[identifier])\n",
    "                else:\n",
    "                     metadata.append([\"Unknown\", \"Unknown\", \"Unknown\"])\n",
    "            else:\n",
    "                print(f\"No face found in {filename}, skipping...\")\n",
    "    return images, labels, metadata"
   ]
  },
  {
   "cell_type": "code",
   "execution_count": 3,
   "id": "d3560ab9-9f28-44ee-9d98-65c987449598",
   "metadata": {},
   "outputs": [],
   "source": [
    "# Specifying the filepath\n",
    "training_data_folder = \"C:/Users/OWNER/Downloads/Alabi project Folder/Computer Vision/Udemy/Self Imple/Face recognition/Photos\"\n",
    "metadata_file = \"C:/Users/OWNER/Downloads/Alabi project Folder/Computer Vision/Udemy/Self Imple/Face recognition/Face_Recognition_Training_Data.xlsx\"\n"
   ]
  },
  {
   "cell_type": "code",
   "execution_count": 4,
   "id": "9230a82b-20c9-4505-8a96-4d3531d57a0a",
   "metadata": {},
   "outputs": [],
   "source": [
    "# Loading the image folder and the excel file\n",
    "known_face_encodings, known_face_names, metadata = load_data_from_folder(training_data_folder, metadata_file)"
   ]
  },
  {
   "cell_type": "code",
   "execution_count": null,
   "id": "eb47572f-4936-4629-a9ad-28a5df205b1f",
   "metadata": {},
   "outputs": [],
   "source": [
    "# Creating Access Management and Identity Verification System\n",
    "video_capture = cv2.VideoCapture(0)\n",
    "while True:\n",
    "    ret, frame = video_capture.read()\n",
    "    face_locations = face_recognition.face_locations(frame)\n",
    "    face_encodings = face_recognition.face_encodings(frame, face_locations)\n",
    "\n",
    "    for face_encoding in face_encodings:\n",
    "        matches = face_recognition.compare_faces(known_face_encodings,face_encoding)\n",
    "        name = \"Unknown\"\n",
    "        full_name = \"Unknown\"\n",
    "        age = \"Unknown\"\n",
    "        gender = \"Unknown\"\n",
    "        if True in matches:\n",
    "            first_match_index = matches.index(True)\n",
    "            name = known_face_names[first_match_index]\n",
    "            full_name, age, gender = metadata[first_match_index]\n",
    "            cv2.putText(frame, \"Identity verified, access granted\", (50,50), cv2.FONT_HERSHEY_SIMPLEX, 1, (0,2555,0), 2, cv2.LINE_AA)\n",
    "        else:\n",
    "            cv2.putText(frame, \"Identity not verified, access denied\", (50,50), cv2.FONT_HERSHEY_SIMPLEX, 1, (0,2555,0), 2, cv2.LINE_AA)\n",
    "        # Draw rectangle around the face\n",
    "        top, right, bottom, left = face_recognition.face_locations(frame)[0]\n",
    "        cv2.rectangle(frame, (left, top), (right, bottom), (0,0,255),2)\n",
    "        cv2.putText(frame, f\"Name: {full_name}\", (left, bottom + 20), cv2.FONT_HERSHEY_DUPLEX, 0.8, (255,255,255),1)\n",
    "        cv2.putText(frame, f\"Age: {age}\", (left, bottom + 40), cv2.FONT_HERSHEY_DUPLEX, 0.8, (255,255,255),1)\n",
    "        cv2.putText(frame, f\"Gender: {gender}\", (left, bottom + 60), cv2.FONT_HERSHEY_DUPLEX, 0.8, (255,255,255),1)\n",
    "   \n",
    "cv2.imshow(\"Video\", frame)\n",
    "if cv2.waitKey(1) & 0xFF == ord('q'):\n",
    "    break"
   ]
  },
  {
   "cell_type": "code",
   "execution_count": null,
   "id": "554de5a7-0e90-4240-8c1b-c322a64ab3eb",
   "metadata": {},
   "outputs": [],
   "source": [
    "video_capture.release()\n",
    "cv2.destroyAllWindows()"
   ]
  }
 ],
 "metadata": {
  "kernelspec": {
   "display_name": "Python 3 (ipykernel)",
   "language": "python",
   "name": "python3"
  },
  "language_info": {
   "codemirror_mode": {
    "name": "ipython",
    "version": 3
   },
   "file_extension": ".py",
   "mimetype": "text/x-python",
   "name": "python",
   "nbconvert_exporter": "python",
   "pygments_lexer": "ipython3",
   "version": "3.12.9"
  }
 },
 "nbformat": 4,
 "nbformat_minor": 5
}
